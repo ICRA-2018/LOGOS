{
 "cells": [
  {
   "cell_type": "code",
   "execution_count": null,
   "metadata": {
    "collapsed": false
   },
   "outputs": [],
   "source": [
    "fprintf('Running demo.m....\\n');\n",
    "eval(['mex matlab/LOGOS.cpp src/Point.cpp src/Match.cpp src/Logos.cpp src/PointPair.cpp']); \n",
    "addpath(genpath('matlab'))"
   ]
  },
  {
   "cell_type": "code",
   "execution_count": null,
   "metadata": {
    "collapsed": true
   },
   "outputs": [],
   "source": [
    "numClusters = 512;\n",
    "\n",
    "load(sprintf('matlab/centers_%s_%d.mat','SURF',numClusters),'centers');\n",
    "\n",
    "if exist('vl_kdtreebuild')\n",
    "    kdtree = vl_kdtreebuild(centers);\n",
    "end\n",
    "\n",
    "im1 = 1448;\n",
    "im2 = 388;\n",
    "\n",
    "IM1 = imread(sprintf('%04i.jpg',im1));\n",
    "IM2 = imread(sprintf('%04i.jpg',im2));"
   ]
  },
  {
   "cell_type": "code",
   "execution_count": null,
   "metadata": {
    "collapsed": false
   },
   "outputs": [],
   "source": [
    "%extract features\n",
    "fprintf('Loading Image 1....\\n');\n",
    "[f1,vPA] = findFeatures(rgb2gray(IM1));\n",
    "\n",
    "L1 = size(vPA,1);\n",
    "vP1 = vPA.Location;\n",
    "oP1 = vPA.Orientation;\n",
    "sP1 = vPA.Scale; \n",
    "\n",
    "%extract features\n",
    "fprintf('Loading Image 2....\\n');\n",
    "[f2,vPB] = findFeatures(rgb2gray(IM2));\n",
    "\n",
    "% find words\n",
    "fprintf('Find words....\\n');\n",
    "if (exist('kdtree','var') && exist('vl_kdtreequery'))\n",
    "  nn1 = vl_kdtreequery(kdtree, centers, f1');       \n",
    "  nn2 = vl_kdtreequery(kdtree, centers, f2');           \n",
    "else\n",
    "  D1 = distCosine(centers',f1);\n",
    "  [~,nn1] = min(D1);   \n",
    "    \n",
    "  D2 = distCosine(centers',f2);\n",
    "  [~,nn2] = min(D2);\n",
    "end"
   ]
  },
  {
   "cell_type": "code",
   "execution_count": null,
   "metadata": {
    "collapsed": true
   },
   "outputs": [],
   "source": [
    "L2 = size(vPB,1);\n",
    "vP2 = vPB.Location;\n",
    "oP2 = vPB.Orientation;\n",
    "sP2 = vPB.Scale; \n",
    "\n",
    "w1 = double(nn1);\n",
    "w2 = double(nn2);\n",
    "\n",
    "parameters = defaultparameters();"
   ]
  },
  {
   "cell_type": "code",
   "execution_count": null,
   "metadata": {
    "collapsed": false
   },
   "outputs": [],
   "source": [
    "fprintf('Running C++ LOGOS Implementation....\\n');\n",
    "[x1,y1,z1] = LOGOS(double(vP1'),double(oP1),double(sP1),w1,double(vP2'),double(oP2),double(sP2),w2,parameters);"
   ]
  },
  {
   "cell_type": "code",
   "execution_count": null,
   "metadata": {
    "collapsed": false
   },
   "outputs": [],
   "source": [
    "fprintf('Running MATLAB LOGOS Implementation....\\n');\n",
    "tic;\n",
    "[a1,u,d1,b1,c1,e1,f1,mp] = estimateMatches(vP1,oP1,sP1,vP2,oP2,sP2,w1,w2,parameters);\n",
    "elapsedtime=toc;\n",
    "fprintf('MATLAB implementation takes %06f secs\\n',elapsedtime);"
   ]
  },
  {
   "cell_type": "code",
   "execution_count": null,
   "metadata": {
    "collapsed": false
   },
   "outputs": [],
   "source": [
    "fprintf('Generating images...\\n')\n",
    "\n",
    "vPC = vP1(d1,:);\n",
    "vP2C = vP2(b1,:);\n",
    "\n",
    "figure(2); showMatchedFeatures(IM1,IM2,vPC,vP2C,'montage');\n",
    "title('LOGOS inliers (MATLAB implementation)')"
   ]
  },
  {
   "cell_type": "code",
   "execution_count": null,
   "metadata": {
    "collapsed": false
   },
   "outputs": [],
   "source": [
    "vPD = vP1(y1+1,:);\n",
    "vP2D = vP2(z1+1,:);\n",
    "\n",
    "figure(3); showMatchedFeatures(IM1,IM2,vPD,vP2D,'montage');\n",
    "title('LOGOS inliers (C++ implementation)')"
   ]
  },
  {
   "cell_type": "code",
   "execution_count": null,
   "metadata": {
    "collapsed": true
   },
   "outputs": [],
   "source": []
  }
 ],
 "metadata": {
  "kernelspec": {
   "display_name": "Matlab",
   "language": "matlab",
   "name": "matlab"
  },
  "language_info": {
   "codemirror_mode": "octave",
   "file_extension": ".m",
   "help_links": [
    {
     "text": "MetaKernel Magics",
     "url": "https://github.com/calysto/metakernel/blob/master/metakernel/magics/README.md"
    }
   ],
   "mimetype": "text/x-octave",
   "name": "matlab",
   "version": "0.16.1"
  }
 },
 "nbformat": 4,
 "nbformat_minor": 2
}
